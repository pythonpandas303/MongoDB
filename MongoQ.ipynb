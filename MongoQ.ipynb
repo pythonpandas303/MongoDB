{
 "cells": [
  {
   "cell_type": "markdown",
   "id": "26b9d0d0",
   "metadata": {},
   "source": [
    "#### Calling packages from required libraries"
   ]
  },
  {
   "cell_type": "code",
   "execution_count": 74,
   "id": "0fb730fb",
   "metadata": {},
   "outputs": [],
   "source": [
    "import pymongo as mongo\n",
    "from pymongo import MongoClient\n",
    "import pandas as pd\n",
    "import matplotlib.pyplot as plt\n",
    "import numpy as np\n",
    "import os\n",
    "import seaborn as sns \n",
    "%matplotlib inline"
   ]
  },
  {
   "cell_type": "code",
   "execution_count": 63,
   "id": "4aa560bf",
   "metadata": {},
   "outputs": [
    {
     "data": {
      "text/plain": [
       "'C:\\\\Users\\\\megal\\\\Desktop\\\\Regis\\\\MSDS610\\\\Week4'"
      ]
     },
     "execution_count": 63,
     "metadata": {},
     "output_type": "execute_result"
    }
   ],
   "source": [
    "os.getcwd()"
   ]
  },
  {
   "cell_type": "code",
   "execution_count": 64,
   "id": "6326dfad",
   "metadata": {},
   "outputs": [],
   "source": [
    "os.chdir('C:/Users/megal/Desktop/Regis/MSDS610/Week4')"
   ]
  },
  {
   "cell_type": "markdown",
   "id": "69437ce0",
   "metadata": {},
   "source": [
    "#### Defining function to connect with MongoDB"
   ]
  },
  {
   "cell_type": "code",
   "execution_count": 65,
   "id": "d5089042",
   "metadata": {},
   "outputs": [],
   "source": [
    "client = MongoClient()\n",
    "db = client['LA_Traffic']\n",
    "tickets = db['LA_Traffic_Citations']"
   ]
  },
  {
   "cell_type": "markdown",
   "id": "cc36e7d2",
   "metadata": {},
   "source": [
    "#### Locating random example"
   ]
  },
  {
   "cell_type": "code",
   "execution_count": 66,
   "id": "525c0239",
   "metadata": {},
   "outputs": [
    {
     "data": {
      "text/plain": [
       "{'_id': ObjectId('6202a6fc6d30fb9e60290dd4'),\n",
       " 'Ticket number': '1103341116',\n",
       " 'Issue Date': '2015-12-21T00:00:00.000',\n",
       " 'Issue time': '1251',\n",
       " 'RP State Plate': 'CA',\n",
       " 'Plate Expiry Date': '200304',\n",
       " 'Make': 'HOND',\n",
       " 'Body Style': 'PA',\n",
       " 'Color': 'GY',\n",
       " 'Location': '13147 WELBY WAY',\n",
       " 'Route': '01521',\n",
       " 'Agency': '1',\n",
       " 'Violation code': '4000A1',\n",
       " 'Violation Description': 'NO EVIDENCE OF REG',\n",
       " 'Fine amount': '50',\n",
       " 'Latitude': '99999',\n",
       " 'Longitude': '99999'}"
      ]
     },
     "execution_count": 66,
     "metadata": {},
     "output_type": "execute_result"
    }
   ],
   "source": [
    "tickets.find_one()"
   ]
  },
  {
   "cell_type": "code",
   "execution_count": 67,
   "id": "6d35053c",
   "metadata": {},
   "outputs": [],
   "source": [
    "registration_tickets_makes = tickets.find({'Violation Description': {'$eq': 'NO EVIDENCE OF REG'}}).limit(10)"
   ]
  },
  {
   "cell_type": "code",
   "execution_count": 68,
   "id": "7952d5bb",
   "metadata": {},
   "outputs": [],
   "source": [
    "df = pd.json_normalize(registration_tickets_makes)"
   ]
  },
  {
   "cell_type": "code",
   "execution_count": 69,
   "id": "086db05c",
   "metadata": {},
   "outputs": [
    {
     "data": {
      "image/png": "[encoded data removed]",
      "text/plain": [
       "<Figure size 432x288 with 1 Axes>"
      ]
     },
     "metadata": {
      "needs_background": "light"
     },
     "output_type": "display_data"
    }
   ],
   "source": [
    "ax = df['Make'].value_counts()[:20].plot.bar()\n",
    "plt.tight_layout()"
   ]
  },
  {
   "cell_type": "code",
   "execution_count": 70,
   "id": "bf3d35bd",
   "metadata": {},
   "outputs": [],
   "source": [
    "fig = ax.get_figure()\n",
    "fig.savefig('make_barplot.jpg')"
   ]
  },
  {
   "cell_type": "code",
   "execution_count": 113,
   "id": "1665880c",
   "metadata": {},
   "outputs": [],
   "source": [
    "df3 = tickets.find().sort(\"Fine amout\", -1).limit(10)"
   ]
  },
  {
   "cell_type": "code",
   "execution_count": 114,
   "id": "4728f218",
   "metadata": {},
   "outputs": [],
   "source": [
    "df3 = pd.json_normalize(df3)"
   ]
  },
  {
   "cell_type": "code",
   "execution_count": 117,
   "id": "9df3a8ff",
   "metadata": {},
   "outputs": [
    {
     "name": "stdout",
     "output_type": "stream",
     "text": [
      "                        _id Ticket number               Issue Date Issue time  \\\n",
      "0  6202a6fc6d30fb9e60290ddd    1106506413  2015-12-22T00:00:00.000       1100   \n",
      "1  6202a6fc6d30fb9e60290dd8    1105461453  2015-09-15T00:00:00.000        115   \n",
      "2  6202a6fc6d30fb9e60290ddb    1106500463  2015-12-17T00:00:00.000       1710   \n",
      "3  6202a6fc6d30fb9e60290dd9    1106226590  2015-09-15T00:00:00.000         19   \n",
      "4  6202a6fc6d30fb9e60290dd7    1104820732  2015-12-26T00:00:00.000       1515   \n",
      "5  6202a6fc6d30fb9e60290dd5    1103700150  2015-12-21T00:00:00.000       1435   \n",
      "6  6202a6fc6d30fb9e60290dd4    1103341116  2015-12-21T00:00:00.000       1251   \n",
      "7  6202a6fc6d30fb9e60290dd6    1104803000  2015-12-21T00:00:00.000       2055   \n",
      "8  6202a6fc6d30fb9e60290dda    1106500452  2015-12-17T00:00:00.000       1710   \n",
      "\n",
      "  RP State Plate Plate Expiry Date  Make Body Style Color            Location  \\\n",
      "0             CA            201701  NISS         PA    SI     1159 HUNTLEY DR   \n",
      "1             CA            200316  CHEV         PA    BK  GEORGIA ST/OLYMPIC   \n",
      "2             CA            201602  TOYO         PA    BK     SUNSET/ALVARADO   \n",
      "3             CA            201507  CHEV         VN    GY  SAN PEDRO S/O BOYD   \n",
      "4             CA               NaN  ACUR         PA    WH       100 WORLD WAY   \n",
      "5             CA            201512   GMC         VN    WH       525 S MAIN ST   \n",
      "6             CA            200304  HOND         PA    GY     13147 WELBY WAY   \n",
      "7             CA            201503  NISS         PA    BK       200 WORLD WAY   \n",
      "8             CA            201605  MAZD         PA    BL     SUNSET/ALVARADO   \n",
      "\n",
      "   Route Agency Violation code Violation Description Fine amount   Latitude  \\\n",
      "0   2A75      1         8069AA      NO STOP/STAND AM          93      99999   \n",
      "1  1FB70      1          8069A  NO STOPPING/STANDING          93      99999   \n",
      "2  00217      1           8070  PARK IN GRID LOCK ZN         163      99999   \n",
      "3  1A35W      1         4000A1    NO EVIDENCE OF REG          50      99999   \n",
      "4   2F11      2            000                17104h         NaN  6440041.1   \n",
      "5   1C51      1         4000A1    NO EVIDENCE OF REG          50      99999   \n",
      "6  01521      1         4000A1    NO EVIDENCE OF REG          50      99999   \n",
      "7    2R2      2           8939            WHITE CURB          58  6439997.9   \n",
      "8  00217      1           8070  PARK IN GRID LOCK ZN         163      99999   \n",
      "\n",
      "   Longitude  \n",
      "0      99999  \n",
      "1      99999  \n",
      "2      99999  \n",
      "3      99999  \n",
      "4  1802686.2  \n",
      "5      99999  \n",
      "6      99999  \n",
      "7  1802686.4  \n",
      "8      99999  \n"
     ]
    }
   ],
   "source": [
    "print(df3)"
   ]
  },
  {
   "cell_type": "code",
   "execution_count": 71,
   "id": "dd05ec77",
   "metadata": {},
   "outputs": [],
   "source": [
    "df2 = tickets.find({'RP State Plate': {'$ne': 'CA'}})"
   ]
  },
  {
   "cell_type": "code",
   "execution_count": 72,
   "id": "e0b62969",
   "metadata": {},
   "outputs": [],
   "source": [
    "df2 = pd.json_normalize(df2)"
   ]
  },
  {
   "cell_type": "code",
   "execution_count": 73,
   "id": "60c50f6e",
   "metadata": {},
   "outputs": [
    {
     "data": {
      "image/png": "[encoded data removed]",
      "text/plain": [
       "<Figure size 792x576 with 1 Axes>"
      ]
     },
     "metadata": {},
     "output_type": "display_data"
    }
   ],
   "source": [
    "sns.set(style=\"darkgrid\")\n",
    "state_plate_count  = df2['RP State Plate'].value_counts()\n",
    "state_plate_count = state_plate_count[:20,]\n",
    "plt.figure(figsize=(11,8))\n",
    "sns.barplot(state_plate_count.index, state_plate_count.values, alpha=1,palette=(\"Paired\"))\n",
    "plt.title('Top 20 State Plates Issued Parking Citations', fontsize=22)\n",
    "plt.xlabel('State', size=\"20\")\n",
    "plt.ylabel('Number of Citations', size=\"20\")\n",
    "plt.show()"
   ]
  },
  {
   "cell_type": "code",
   "execution_count": null,
   "id": "0032e6d1",
   "metadata": {},
   "outputs": [],
   "source": []
  }
 ],
 "metadata": {
  "kernelspec": {
   "display_name": "Python 3",
   "language": "python",
   "name": "python3"
  },
  "language_info": {
   "codemirror_mode": {
    "name": "ipython",
    "version": 3
   },
   "file_extension": ".py",
   "mimetype": "text/x-python",
   "name": "python",
   "nbconvert_exporter": "python",
   "pygments_lexer": "ipython3",
   "version": "3.6.13"
  }
 },
 "nbformat": 4,
 "nbformat_minor": 5
}
